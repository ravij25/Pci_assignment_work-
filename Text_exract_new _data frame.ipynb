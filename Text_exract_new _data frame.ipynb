{
 "cells": [
  {
   "cell_type": "markdown",
   "id": "74f38d1d",
   "metadata": {},
   "source": [
    "# Extracting the substring of the column in pandas python can be done by using extract function with regular expression in it. Let’s see how to\n",
    "\n",
    "Extract the substring of the column in pandas python\n",
    "With examples\n",
    "\n",
    "Syntax: dataframe.column.str.extract(r’regex’)\n",
    "\n",
    "First let’s create a dataframe"
   ]
  },
  {
   "cell_type": "code",
   "execution_count": 1,
   "id": "1140c2c8",
   "metadata": {},
   "outputs": [
    {
     "name": "stdout",
     "output_type": "stream",
     "text": [
      "        State  Score1\n",
      "0  Arizona AZ       4\n",
      "1  Georgia GG      47\n",
      "2  Newyork NY      55\n",
      "3  Indiana IN      74\n",
      "4  Florida FL      31\n"
     ]
    }
   ],
   "source": [
    "import pandas as pd\n",
    "import numpy as np\n",
    " \n",
    "df1 = {\n",
    "    'State':['Arizona AZ','Georgia GG','Newyork NY','Indiana IN','Florida FL'],\n",
    "   'Score1':[4,47,55,74,31]}\n",
    " \n",
    "df1 = pd.DataFrame(df1,columns=['State','Score1'])\n",
    "print(df1)"
   ]
  },
  {
   "cell_type": "markdown",
   "id": "50588fd0",
   "metadata": {},
   "source": [
    "# Extract substring of a column in pandas:\n",
    "\n",
    "We have extracted the last word of the state column using regular expression and stored in other column."
   ]
  },
  {
   "cell_type": "code",
   "execution_count": 2,
   "id": "b436baa5",
   "metadata": {},
   "outputs": [
    {
     "name": "stdout",
     "output_type": "stream",
     "text": [
      "        State  Score1 State_code\n",
      "0  Arizona AZ       4         AZ\n",
      "1  Georgia GG      47         GG\n",
      "2  Newyork NY      55         NY\n",
      "3  Indiana IN      74         IN\n",
      "4  Florida FL      31         FL\n"
     ]
    }
   ],
   "source": [
    "df1['State_code'] = df1.State.str.extract(r'\\b(\\w+)$', expand=True)\n",
    "print(df1)"
   ]
  },
  {
   "cell_type": "code",
   "execution_count": null,
   "id": "b6464732",
   "metadata": {},
   "outputs": [],
   "source": [
    "df.drop(df[df['Fee'] >= 24000].index, inplace = True)"
   ]
  }
 ],
 "metadata": {
  "kernelspec": {
   "display_name": "Python 3 (ipykernel)",
   "language": "python",
   "name": "python3"
  },
  "language_info": {
   "codemirror_mode": {
    "name": "ipython",
    "version": 3
   },
   "file_extension": ".py",
   "mimetype": "text/x-python",
   "name": "python",
   "nbconvert_exporter": "python",
   "pygments_lexer": "ipython3",
   "version": "3.9.12"
  }
 },
 "nbformat": 4,
 "nbformat_minor": 5
}
