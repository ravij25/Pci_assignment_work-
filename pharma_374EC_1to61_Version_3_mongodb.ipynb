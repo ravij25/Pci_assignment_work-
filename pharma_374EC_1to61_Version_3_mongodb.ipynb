{
 "cells": [
  {
   "cell_type": "code",
   "execution_count": 61,
   "id": "092f4bf1",
   "metadata": {},
   "outputs": [],
   "source": [
    "import pymongo\n",
    "\n",
    "client=pymongo.MongoClient('mongodb://localhost:27017/')\n",
    "\n",
    "mydb=client['374EC_clg_info']\n",
    "pharma3_info=mydb.pharma_College_info5"
   ]
  },
  {
   "cell_type": "code",
   "execution_count": 62,
   "id": "bfb880c0",
   "metadata": {},
   "outputs": [
    {
     "data": {
      "text/plain": [
       "<pymongo.results.InsertOneResult at 0x216b61a3880>"
      ]
     },
     "execution_count": 62,
     "metadata": {},
     "output_type": "execute_result"
    }
   ],
   "source": [
    "record={\n",
    "        'EC_no':'AP-117/ 2022-2023',\n",
    "        'Examining Authority/Hospital':'B.Pharm, Pharm.D, Pharm.D (PB) and M.Pharm :The Registrar, Andhra University, Waltair Junction, Visakhapatnam, Andhra Pradesh 530003 Hospital:King George Hospital, Visakhapatnam',\n",
    "        'Decisions of 375 EC':'B.Pharm: B.Pharm course is already approved upto 2022-2023 academic session for 40 admissions.PharmDPharm.D course is already approved upto 2022-2023 academic session for 30 admissions. Pharm.D(PB)Pharm.D (PB) course is already approved upto 2022-2023 academic session for 10 admissions.M.PharmM.Pharm Pharmacy Practice -1M.Pharm Regulatory Affairs- 03  M.Pharm Pharmaceutical Biotechnology-03 M.Pharm Pharmacognosy- 03M.Pharm Pharmaceutical Technology- 06M.Pharm Pharmacology -06 M.Pharm Pharmaceutical Chemistry -10 M.Pharm Pharmaceutical Analysis -06 ',\n",
    "        }\n",
    "pharma3_info.insert_one(record)"
   ]
  },
  {
   "cell_type": "code",
   "execution_count": 63,
   "id": "5933a08b",
   "metadata": {},
   "outputs": [],
   "source": [
    "records2=[\n",
    "    {\n",
    "    'EC_no': 'AP-118/ 2022-2023',\n",
    "    'Examining Authority/Hospital': 'B.Pharm,  M.Pharm The Registrar GITAM University Rushikonda Gandhinagar Campus Rushikonda Visakhapatnam',\n",
    "\n",
    "    'Decisions of 375 EC': 'B.Pharm: B.Pharm course is already approved upto 2023-2024 academic session for 100 admissions.M.PharmM.Pharm Pharmaceutics- 15 M.Pharm Pharmaceutical Chemistry- 15 M.Pharm Pharmaceutical Analysis- 15 M.Pharm Pharmaceutical Quality Assurance-09 M.Pharm Pharmacology -12'\n",
    "    \n",
    "},\n",
    "    {\n",
    "    'EC_no': 'AP-119/ 2022-2023',\n",
    "    'Examining Authority/Hospital': 'B.Pharm, M.Pharm The Registrar Sri Padmavathi Mahila Visvavidyalayam Tirupati',\n",
    "\n",
    "    'Decisions of 375 EC': 'B.Pharm: B.Pharm course is already approved upto 2023-2024 academic session for 40 admissions. M.PharM.Pharm Pharmaceutical Analysis- 15M.Pharm Pharmacology- M.Pharm Pharmaceutics -15 M.Pharm PharmaceuticalChemistry- 15 M.Pharm Pharmacognosy- 06',\n",
    "},\n",
    "    {\n",
    "    'EC_no': 'AP-120/ 2022-2023',\n",
    "    'Examining Authority/Hospital': 'D.Pharm The Secretary State Board of Technical Education and Training Andhra Pradeshma B.Pharm, Pharm.D, Pharm.D(PB)  M.PharmThe Controller of Examinations, Raghavendra Institute of Pharmaceutical Education and Research, K R Palli Cross, Chiyyedu Post, Anantapuramu District 515721. HospitaRDT Hospital, Anantpur',\n",
    "        \n",
    "    'Decisions of 375 EC':'D.Pharm: D.Pharm course is approved upto 2024-2025 academic session for 60 admissions'\n",
    "\n",
    "    }\n",
    "    \n",
    "]"
   ]
  },
  {
   "cell_type": "code",
   "execution_count": 64,
   "id": "0f06bbc3",
   "metadata": {},
   "outputs": [
    {
     "data": {
      "text/plain": [
       "<pymongo.results.InsertManyResult at 0x216b61cca60>"
      ]
     },
     "execution_count": 64,
     "metadata": {},
     "output_type": "execute_result"
    }
   ],
   "source": [
    "pharma3_info.insert_many(records2)"
   ]
  },
  {
   "cell_type": "code",
   "execution_count": 65,
   "id": "afa7f751",
   "metadata": {},
   "outputs": [
    {
     "data": {
      "text/plain": [
       "<pymongo.results.InsertManyResult at 0x216b6292040>"
      ]
     },
     "execution_count": 65,
     "metadata": {},
     "output_type": "execute_result"
    }
   ],
   "source": [
    "pharma3_info.insert_many(records)"
   ]
  },
  {
   "cell_type": "code",
   "execution_count": 66,
   "id": "e3e55083",
   "metadata": {},
   "outputs": [
    {
     "ename": "SyntaxError",
     "evalue": "invalid syntax (260660355.py, line 44)",
     "output_type": "error",
     "traceback": [
      "\u001b[1;36m  Input \u001b[1;32mIn [66]\u001b[1;36m\u001b[0m\n\u001b[1;33m    4 }\u001b[0m\n\u001b[1;37m    ^\u001b[0m\n\u001b[1;31mSyntaxError\u001b[0m\u001b[1;31m:\u001b[0m invalid syntax\n"
     ]
    }
   ],
   "source": [
    " records3 = [\n",
    "     {\n",
    "    'EC_no': 'AP-121/ 2022-2023-Govt Polytechnic For Women Cuddapah Gram / PCI – 741',\n",
    "    'Examining Authority/Hospital': 'D.Pharm: The Secretary State Board of Tech. Education and Training, B.R.K.R. Building, 7th Floor, Tank Bund Road, Hyderabad - 500 063',\n",
    "  'Decisions of 375 EC':'D.Pharm D.Pharm course is already approved upto 2022-2023 academic session for 60 admissions.'\n",
    "    },\n",
    "    {\n",
    "    'EC_no': 'AP-122/ 2022-2023-AP-122/ 2022-2023, Govt Polytechnic For Womenguntur Gram Vanita / PCI – 744',\n",
    "\n",
    "    'Examining Authority/Hospital':'D.Pharm The Secretary State Board of Tech. Education and Training,B.R.K.R. Building,7th Floor, Tank Bund Road, Hyderabad - 500 063',\n",
    "\n",
    "    'Decisions of 375 EC':'D.Pharm:D.Pharm course is already approved upto 2022-2023 academic session for 60 admissions.'\n",
    "    },\n",
    "    {\n",
    "    'EC_no': '374EC/7 AP-123/ 2022-2023 Govt Polytechnic For Women Hindupur / PCI - 745',\n",
    "    'Examining Authority/Hospital': 'D.Pharm:The Secretary State Board of Tech. Education and Training,B.R.K.R. Building, 7th Floor, Tank Bund Road, Hyderabad - 500 063.',\n",
    "    'Decisions of 375 EC':'D.Pharm:D.Pharm course is already approved upto 2022-2023 academic session for 50 admissions.'\n",
    "    },\n",
    "    {\n",
    "    'EC_no': '374EC/8 AP-124/ 2022-2023 Govt Polytechnic For Women Kakinada East Godavari Distt Gram Womens Poly / PCI – 746',\n",
    "    'Examining Authority/Hospital': 'The Secretary, State Board of Tech. Education and Training, B.R.K.R. Building, 7th Floor, Tank Bund Road,saifabadHyderabad – 500 063',\n",
    "    'Decisions of 375 EC':'D.Pharm:D.Pharm course is already approved upto 2022-2023 academic session for 40 admissions.'\n",
    "    },\n",
    "      {\n",
    "    'EC_no': '374EC/9 AP-125/ 2022-2023,Govt Polytechnic For Women Srikakulam / PCI – 748',\n",
    "    'Examining Authority/Hospital': 'The Secretary, State Board of Tech. Education and Training, B.R.K.R. Building, 7th Floor, Tank Bund Road,saifabadHyderabad – 500 063',\n",
    "    'Decisions of 375 EC':'D.Pharm:D.Pharm course is already approved upto 2022-2023 academic session for 40 admissions.'\n",
    "    },\n",
    "     {\n",
    "    'EC_no': '374EC/10, AP-126/ 2022-2023 Govt Polytechnic Visakhapatnam Gram Poly / PCI – 766',\n",
    "    'Examining Authority/Hospital': 'The Secretary,State Board of Tech. Education and Training, B.R.K.R. Building, 7th Floor, Tank Bund Road,saifabadHyderabad – 500 063',\n",
    "    'Decisions of 375 EC':'D.Pharm:D.Pharm course is already approved upto 2022-2023 academic session for 60 admissions.'\n",
    "    },\n",
    "    {\n",
    "    'EC_no': '374EC/11 AP-127/ 2022-2023 Sri Padmavathi Womens Polytechnic T T Devasthanamstirupati Distt Chittoor Gram Devasthan / PCI – 2306',\n",
    "    'Examining Authority/Hospital': 'The Secretary, State Board of Tech. Education and Training, B.R.K.R. Building, 7th Floor, Tank Bund Road,saifabadHyderabad – 500 063',\n",
    "    'Decisions of 375 EC': 'D.Pharm D.Pharm course is already approved upto 2023-2024 academic session for 30 admissions'\n",
    "\n",
    "    },\n",
    "       {\n",
    "    'EC_no': '374EC/12 AP-128/ 2022-2023St Anns College Of Pharmacy Nayunipalli Village Challareddipalem Vetapalem Madal Chirala Prakasam / PCI – 2371',\n",
    "    'Examining Authority/Hospital': 'B.Pharm :and M.Pharm, The Registrar Jawaharlal Nehru Technological,University Kakinada Hyderabad',\n",
    "    'Decisions of 375 EC':'B.Pharm: Extension of approval upto 2022-2023 academic session for 60 admissions for B.Pharm course'\n",
    "   4 }\n",
    "    \n",
    "     \n",
    " ]"
   ]
  },
  {
   "cell_type": "code",
   "execution_count": 67,
   "id": "c7cc17c9",
   "metadata": {},
   "outputs": [
    {
     "data": {
      "text/plain": [
       "<pymongo.results.InsertManyResult at 0x216b6243670>"
      ]
     },
     "execution_count": 67,
     "metadata": {},
     "output_type": "execute_result"
    }
   ],
   "source": [
    "pharma3_info.insert_many(records3)"
   ]
  },
  {
   "cell_type": "code",
   "execution_count": 68,
   "id": "cab100c8",
   "metadata": {},
   "outputs": [
    {
     "data": {
      "text/plain": [
       "{'_id': ObjectId('633fe552b1e24cbc176776f4'),\n",
       " 'EC_no': 'AP-117/ 2022-2023',\n",
       " 'Examining Authority/Hospital': 'B.Pharm, Pharm.D, Pharm.D (PB) and M.Pharm :The Registrar, Andhra University, Waltair Junction, Visakhapatnam, Andhra Pradesh 530003 Hospital:King George Hospital, Visakhapatnam',\n",
       " 'Decisions of 375 EC': 'B.Pharm: B.Pharm course is already approved upto 2022-2023 academic session for 40 admissions.PharmDPharm.D course is already approved upto 2022-2023 academic session for 30 admissions. Pharm.D(PB)Pharm.D (PB) course is already approved upto 2022-2023 academic session for 10 admissions.M.PharmM.Pharm Pharmacy Practice -1M.Pharm Regulatory Affairs- 03  M.Pharm Pharmaceutical Biotechnology-03 M.Pharm Pharmacognosy- 03M.Pharm Pharmaceutical Technology- 06M.Pharm Pharmacology -06 M.Pharm Pharmaceutical Chemistry -10 M.Pharm Pharmaceutical Analysis -06 '}"
      ]
     },
     "execution_count": 68,
     "metadata": {},
     "output_type": "execute_result"
    }
   ],
   "source": [
    "pharma3_info.find_one()"
   ]
  },
  {
   "cell_type": "code",
   "execution_count": 69,
   "id": "60bf0dbe",
   "metadata": {},
   "outputs": [
    {
     "name": "stdout",
     "output_type": "stream",
     "text": [
      "{'_id': ObjectId('633fe552b1e24cbc176776f4'), 'EC_no': 'AP-117/ 2022-2023', 'Examining Authority/Hospital': 'B.Pharm, Pharm.D, Pharm.D (PB) and M.Pharm :The Registrar, Andhra University, Waltair Junction, Visakhapatnam, Andhra Pradesh 530003 Hospital:King George Hospital, Visakhapatnam', 'Decisions of 375 EC': 'B.Pharm: B.Pharm course is already approved upto 2022-2023 academic session for 40 admissions.PharmDPharm.D course is already approved upto 2022-2023 academic session for 30 admissions. Pharm.D(PB)Pharm.D (PB) course is already approved upto 2022-2023 academic session for 10 admissions.M.PharmM.Pharm Pharmacy Practice -1M.Pharm Regulatory Affairs- 03  M.Pharm Pharmaceutical Biotechnology-03 M.Pharm Pharmacognosy- 03M.Pharm Pharmaceutical Technology- 06M.Pharm Pharmacology -06 M.Pharm Pharmaceutical Chemistry -10 M.Pharm Pharmaceutical Analysis -06 '}\n",
      "{'_id': ObjectId('633fe552b1e24cbc176776f5'), 'EC_no': 'AP-118/ 2022-2023', 'Examining Authority/Hospital': 'B.Pharm,  M.Pharm The Registrar GITAM University Rushikonda Gandhinagar Campus Rushikonda Visakhapatnam', 'Decisions of 375 EC': 'B.Pharm: B.Pharm course is already approved upto 2023-2024 academic session for 100 admissions.M.PharmM.Pharm Pharmaceutics- 15 M.Pharm Pharmaceutical Chemistry- 15 M.Pharm Pharmaceutical Analysis- 15 M.Pharm Pharmaceutical Quality Assurance-09 M.Pharm Pharmacology -12'}\n",
      "{'_id': ObjectId('633fe552b1e24cbc176776f6'), 'EC_no': 'AP-119/ 2022-2023', 'Examining Authority/Hospital': 'B.Pharm, M.Pharm The Registrar Sri Padmavathi Mahila Visvavidyalayam Tirupati', 'Decisions of 375 EC': 'B.Pharm: B.Pharm course is already approved upto 2023-2024 academic session for 40 admissions. M.PharM.Pharm Pharmaceutical Analysis- 15M.Pharm Pharmacology- M.Pharm Pharmaceutics -15 M.Pharm PharmaceuticalChemistry- 15 M.Pharm Pharmacognosy- 06'}\n",
      "{'_id': ObjectId('633fe552b1e24cbc176776f7'), 'EC_no': 'AP-120/ 2022-2023', 'Examining Authority/Hospital': 'D.Pharm The Secretary State Board of Technical Education and Training Andhra Pradeshma B.Pharm, Pharm.D, Pharm.D(PB)  M.PharmThe Controller of Examinations, Raghavendra Institute of Pharmaceutical Education and Research, K R Palli Cross, Chiyyedu Post, Anantapuramu District 515721. HospitaRDT Hospital, Anantpur', 'Decisions of 375 EC': 'D.Pharm: D.Pharm course is approved upto 2024-2025 academic session for 60 admissions'}\n",
      "{'_id': ObjectId('633fdd9ab1e24cbc176776db'), 'EC_no': 'AP-118/ 2022-2023', 'Examining Authority/Hospital': 'B.Pharm,  M.Pharm The Registrar GITAM University Rushikonda Gandhinagar Campus Rushikonda Visakhapatnam', 'Decisions of 375 EC': 'B.Pharm: B.Pharm course is already approved upto 2023-2024 academic session for 100 admissions.M.PharmM.Pharm Pharmaceutics- 15 M.Pharm Pharmaceutical Chemistry- 15 M.Pharm Pharmaceutical Analysis- 15 M.Pharm Pharmaceutical Quality Assurance-09 M.Pharm Pharmacology -12'}\n",
      "{'_id': ObjectId('633fdd9ab1e24cbc176776dc'), 'EC_no': 'AP-119/ 2022-2023', 'Examining Authority/Hospital': 'B.Pharm, M.Pharm The Registrar Sri Padmavathi Mahila Visvavidyalayam Tirupati', 'Decisions of 375 EC': 'B.Pharm: B.Pharm course is already approved upto 2023-2024 academic session for 40 admissions. M.PharM.Pharm Pharmaceutical Analysis- 15M.Pharm Pharmacology- M.Pharm Pharmaceutics -15 M.Pharm PharmaceuticalChemistry- 15 M.Pharm Pharmacognosy- 06'}\n",
      "{'_id': ObjectId('633fdd9ab1e24cbc176776dd'), 'EC_no': 'AP-120/ 2022-2023', 'Examining Authority/Hospital': 'D.Pharm The Secretary State Board of Technical Education and Training Andhra Pradeshma B.Pharm, Pharm.D, Pharm.D(PB)  M.PharmThe Controller of Examinations, Raghavendra Institute of Pharmaceutical Education and Research, K R Palli Cross, Chiyyedu Post, Anantapuramu District 515721. HospitaRDT Hospital, Anantpur', 'Decisions of 375 EC': 'D.Pharm: D.Pharm course is approved upto 2024-2025 academic session for 60 admissions'}\n",
      "{'_id': ObjectId('633fdff5b1e24cbc176776eb'), 'EC_no': 'AP-121/ 2022-2023-Govt Polytechnic For Women Cuddapah Gram / PCI – 741', 'Examining Authority/Hospital': 'D.Pharm: The Secretary State Board of Tech. Education and Training, B.R.K.R. Building, 7th Floor, Tank Bund Road, Hyderabad - 500 063', 'Decisions of 375 EC': 'D.Pharm D.Pharm course is already approved upto 2022-2023 academic session for 60 admissions.'}\n",
      "{'_id': ObjectId('633fdff5b1e24cbc176776ec'), 'EC_no': 'AP-122/ 2022-2023-AP-122/ 2022-2023, Govt Polytechnic For Womenguntur Gram Vanita / PCI – 744', 'Examining Authority/Hospital': 'D.Pharm The Secretary State Board of Tech. Education and Training,B.R.K.R. Building,7th Floor, Tank Bund Road, Hyderabad - 500 063', 'Decisions of 375 EC': 'D.Pharm:D.Pharm course is already approved upto 2022-2023 academic session for 60 admissions.'}\n",
      "{'_id': ObjectId('633fdff5b1e24cbc176776ed'), 'EC_no': '374EC/7 AP-123/ 2022-2023 Govt Polytechnic For Women Hindupur / PCI - 745', 'Examining Authority/Hospital': 'D.Pharm:The Secretary State Board of Tech. Education and Training,B.R.K.R. Building, 7th Floor, Tank Bund Road, Hyderabad - 500 063.', 'Decisions of 375 EC': 'D.Pharm:D.Pharm course is already approved upto 2022-2023 academic session for 50 admissions.'}\n",
      "{'_id': ObjectId('633fdff5b1e24cbc176776ee'), 'EC_no': '374EC/8 AP-124/ 2022-2023 Govt Polytechnic For Women Kakinada East Godavari Distt Gram Womens Poly / PCI – 746', 'Examining Authority/Hospital': 'The Secretary, State Board of Tech. Education and Training, B.R.K.R. Building, 7th Floor, Tank Bund Road,saifabadHyderabad – 500 063', 'Decisions of 375 EC': 'D.Pharm:D.Pharm course is already approved upto 2022-2023 academic session for 40 admissions.'}\n",
      "{'_id': ObjectId('633fdff5b1e24cbc176776ef'), 'EC_no': '374EC/9 AP-125/ 2022-2023,Govt Polytechnic For Women Srikakulam / PCI – 748', 'Examining Authority/Hospital': 'The Secretary, State Board of Tech. Education and Training, B.R.K.R. Building, 7th Floor, Tank Bund Road,saifabadHyderabad – 500 063', 'Decisions of 375 EC': 'D.Pharm:D.Pharm course is already approved upto 2022-2023 academic session for 40 admissions.'}\n",
      "{'_id': ObjectId('633fdff5b1e24cbc176776f0'), 'EC_no': '374EC/10, AP-126/ 2022-2023 Govt Polytechnic Visakhapatnam Gram Poly / PCI – 766', 'Examining Authority/Hospital': 'The Secretary,State Board of Tech. Education and Training, B.R.K.R. Building, 7th Floor, Tank Bund Road,saifabadHyderabad – 500 063', 'Decisions of 375 EC': 'D.Pharm:D.Pharm course is already approved upto 2022-2023 academic session for 60 admissions.'}\n",
      "{'_id': ObjectId('633fdff5b1e24cbc176776f1'), 'EC_no': '374EC/11 AP-127/ 2022-2023 Sri Padmavathi Womens Polytechnic T T Devasthanamstirupati Distt Chittoor Gram Devasthan / PCI – 2306', 'Examining Authority/Hospital': 'The Secretary, State Board of Tech. Education and Training, B.R.K.R. Building, 7th Floor, Tank Bund Road,saifabadHyderabad – 500 063', 'Decisions of 375 EC': 'D.Pharm D.Pharm course is already approved upto 2023-2024 academic session for 30 admissions'}\n",
      "{'_id': ObjectId('633fdff5b1e24cbc176776f2'), 'EC_no': '374EC/12 AP-128/ 2022-2023St Anns College Of Pharmacy Nayunipalli Village Challareddipalem Vetapalem Madal Chirala Prakasam / PCI – 2371', 'Examining Authority/Hospital': 'B.Pharm :and M.Pharm, The Registrar Jawaharlal Nehru Technological,University Kakinada Hyderabad', 'Decisions of 375 EC': 'B.Pharm: Extension of approval upto 2022-2023 academic session for 60 admissions for B.Pharm course'}\n"
     ]
    }
   ],
   "source": [
    "for record in pharma3_info.find({}):\n",
    "    print(record)"
   ]
  },
  {
   "cell_type": "code",
   "execution_count": null,
   "id": "6a5e70a0",
   "metadata": {},
   "outputs": [],
   "source": []
  },
  {
   "cell_type": "code",
   "execution_count": null,
   "id": "2927a115",
   "metadata": {},
   "outputs": [],
   "source": []
  },
  {
   "cell_type": "code",
   "execution_count": null,
   "id": "0bb90f41",
   "metadata": {},
   "outputs": [],
   "source": []
  },
  {
   "cell_type": "code",
   "execution_count": null,
   "id": "b0573f2d",
   "metadata": {},
   "outputs": [],
   "source": []
  },
  {
   "cell_type": "code",
   "execution_count": null,
   "id": "205d8b11",
   "metadata": {},
   "outputs": [],
   "source": []
  },
  {
   "cell_type": "code",
   "execution_count": null,
   "id": "160c81d1",
   "metadata": {},
   "outputs": [],
   "source": []
  }
 ],
 "metadata": {
  "kernelspec": {
   "display_name": "Python 3 (ipykernel)",
   "language": "python",
   "name": "python3"
  },
  "language_info": {
   "codemirror_mode": {
    "name": "ipython",
    "version": 3
   },
   "file_extension": ".py",
   "mimetype": "text/x-python",
   "name": "python",
   "nbconvert_exporter": "python",
   "pygments_lexer": "ipython3",
   "version": "3.9.12"
  }
 },
 "nbformat": 4,
 "nbformat_minor": 5
}
